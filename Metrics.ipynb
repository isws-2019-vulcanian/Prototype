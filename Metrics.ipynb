{
 "cells": [
  {
   "cell_type": "code",
   "execution_count": 8,
   "metadata": {},
   "outputs": [],
   "source": [
    "import csv"
   ]
  },
  {
   "cell_type": "code",
   "execution_count": 16,
   "metadata": {},
   "outputs": [],
   "source": [
    "content = []\n",
    "with open(\"baseline_dbpedia.csv\",\"r\") as f: #baseline.csv for wikidata results \n",
    "    reader = csv.reader(f)\n",
    "    content = list(reader)"
   ]
  },
  {
   "cell_type": "code",
   "execution_count": 10,
   "metadata": {},
   "outputs": [
    {
     "data": {
      "text/plain": [
       "[['ABergo', 'http://dbpedia.org/resource/Abergorlech', 'Abergorlech'],\n",
       " ['Adrian', 'http://dbpedia.org/resource/Edirne', 'Edirne'],\n",
       " ['Alik', 'http://dbpedia.org/resource/Halicarnassus', 'Halicarnassus'],\n",
       " ['allyson', 'http://dbpedia.org/resource/Alyson_Hannigan', 'Alyson Hannigan'],\n",
       " ['andrew', 'http://dbpedia.org/resource/Andrew_Jackson', 'Andrew Jackson']]"
      ]
     },
     "execution_count": 10,
     "metadata": {},
     "output_type": "execute_result"
    }
   ],
   "source": [
    "content[:5]"
   ]
  },
  {
   "cell_type": "code",
   "execution_count": 17,
   "metadata": {},
   "outputs": [
    {
     "data": {
      "text/plain": [
       "0.6415094339622641"
      ]
     },
     "execution_count": 17,
     "metadata": {},
     "output_type": "execute_result"
    }
   ],
   "source": [
    "count = 0\n",
    "for entry in content:\n",
    "    if entry[0].strip().lower() == entry[2].strip().lower():\n",
    "        count = count+1\n",
    "coverage = count/len(content)\n",
    "coverage"
   ]
  }
 ],
 "metadata": {
  "kernelspec": {
   "display_name": "Python 3",
   "language": "python",
   "name": "python3"
  },
  "language_info": {
   "codemirror_mode": {
    "name": "ipython",
    "version": 3
   },
   "file_extension": ".py",
   "mimetype": "text/x-python",
   "name": "python",
   "nbconvert_exporter": "python",
   "pygments_lexer": "ipython3",
   "version": "3.7.3"
  }
 },
 "nbformat": 4,
 "nbformat_minor": 2
}
