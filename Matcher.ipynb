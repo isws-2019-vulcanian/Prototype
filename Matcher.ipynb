{
 "cells": [
  {
   "cell_type": "code",
   "execution_count": 1,
   "metadata": {},
   "outputs": [
    {
     "name": "stdout",
     "output_type": "stream",
     "text": [
      "Requirement already satisfied: fuzzywuzzy in /home/isws/anaconda3/lib/python3.7/site-packages (0.17.0)\r\n"
     ]
    }
   ],
   "source": [
    "!pip install fuzzywuzzy\n",
    "from fuzzywuzzy import fuzz\n",
    "import csv\n",
    "import pandas as pd\n",
    "from time import time"
   ]
  },
  {
   "cell_type": "code",
   "execution_count": 2,
   "metadata": {},
   "outputs": [],
   "source": [
    "f = open(\"wikidata_labels.txt\", \"r\")\n",
    "reader = csv.reader(f, delimiter=' ')"
   ]
  },
  {
   "cell_type": "code",
   "execution_count": 3,
   "metadata": {},
   "outputs": [],
   "source": [
    "types = pd.read_csv(\"org_classes.csv\", names=['0'])['0'].tolist()\n",
    "#types.append(\"https://www.wikidata.org/entity/Q43229\")\n",
    "types_df = pd.read_csv(\"wikidata_types.txt\", sep=' ', names=['entity','instanceOf','type'])\n",
    "#types_df.head()\n",
    "df = types_df[types_df.type.isin(types)]"
   ]
  },
  {
   "cell_type": "code",
   "execution_count": 4,
   "metadata": {},
   "outputs": [
    {
     "data": {
      "text/html": [
       "<div>\n",
       "<style scoped>\n",
       "    .dataframe tbody tr th:only-of-type {\n",
       "        vertical-align: middle;\n",
       "    }\n",
       "\n",
       "    .dataframe tbody tr th {\n",
       "        vertical-align: top;\n",
       "    }\n",
       "\n",
       "    .dataframe thead th {\n",
       "        text-align: right;\n",
       "    }\n",
       "</style>\n",
       "<table border=\"1\" class=\"dataframe\">\n",
       "  <thead>\n",
       "    <tr style=\"text-align: right;\">\n",
       "      <th></th>\n",
       "      <th>entity</th>\n",
       "      <th>instanceOf</th>\n",
       "      <th>type</th>\n",
       "    </tr>\n",
       "  </thead>\n",
       "  <tbody>\n",
       "    <tr>\n",
       "      <th>6895</th>\n",
       "      <td>http://www.wikidata.org/entity/Q100</td>\n",
       "      <td>http://www.wikidata.org/prop/direct/P31</td>\n",
       "      <td>http://www.wikidata.org/entity/Q21518270</td>\n",
       "    </tr>\n",
       "    <tr>\n",
       "      <th>6897</th>\n",
       "      <td>http://www.wikidata.org/entity/Q1000</td>\n",
       "      <td>http://www.wikidata.org/prop/direct/P31</td>\n",
       "      <td>http://www.wikidata.org/entity/Q160016</td>\n",
       "    </tr>\n",
       "    <tr>\n",
       "      <th>6898</th>\n",
       "      <td>http://www.wikidata.org/entity/Q1000</td>\n",
       "      <td>http://www.wikidata.org/prop/direct/P31</td>\n",
       "      <td>http://www.wikidata.org/entity/Q3624078</td>\n",
       "    </tr>\n",
       "    <tr>\n",
       "      <th>6900</th>\n",
       "      <td>http://www.wikidata.org/entity/Q1000</td>\n",
       "      <td>http://www.wikidata.org/prop/direct/P31</td>\n",
       "      <td>http://www.wikidata.org/entity/Q7275</td>\n",
       "    </tr>\n",
       "    <tr>\n",
       "      <th>6921</th>\n",
       "      <td>http://www.wikidata.org/entity/Q1000003</td>\n",
       "      <td>http://www.wikidata.org/prop/direct/P31</td>\n",
       "      <td>http://www.wikidata.org/entity/Q484170</td>\n",
       "    </tr>\n",
       "  </tbody>\n",
       "</table>\n",
       "</div>"
      ],
      "text/plain": [
       "                                       entity  \\\n",
       "6895      http://www.wikidata.org/entity/Q100   \n",
       "6897     http://www.wikidata.org/entity/Q1000   \n",
       "6898     http://www.wikidata.org/entity/Q1000   \n",
       "6900     http://www.wikidata.org/entity/Q1000   \n",
       "6921  http://www.wikidata.org/entity/Q1000003   \n",
       "\n",
       "                                   instanceOf  \\\n",
       "6895  http://www.wikidata.org/prop/direct/P31   \n",
       "6897  http://www.wikidata.org/prop/direct/P31   \n",
       "6898  http://www.wikidata.org/prop/direct/P31   \n",
       "6900  http://www.wikidata.org/prop/direct/P31   \n",
       "6921  http://www.wikidata.org/prop/direct/P31   \n",
       "\n",
       "                                          type  \n",
       "6895  http://www.wikidata.org/entity/Q21518270  \n",
       "6897    http://www.wikidata.org/entity/Q160016  \n",
       "6898   http://www.wikidata.org/entity/Q3624078  \n",
       "6900      http://www.wikidata.org/entity/Q7275  \n",
       "6921    http://www.wikidata.org/entity/Q484170  "
      ]
     },
     "execution_count": 4,
     "metadata": {},
     "output_type": "execute_result"
    }
   ],
   "source": [
    "df.head()"
   ]
  },
  {
   "cell_type": "code",
   "execution_count": 6,
   "metadata": {},
   "outputs": [],
   "source": [
    "def get_labels(lang='en'):\n",
    "    ids = []\n",
    "    labels = []\n",
    "    orgs = {x:1 for x in list(set(df['entity'].tolist()))}\n",
    "    for index, row in enumerate(reader):\n",
    "        #print(f\"processing row: {index}\")\n",
    "        sep_idx = row[2].rfind(\"@\")\n",
    "        if lang in row[2][sep_idx+1:]:\n",
    "            if row[0] in orgs:\n",
    "                ids.append(row[0])\n",
    "                labels.append(row[2][:sep_idx-1])\n",
    "    return ids, labels"
   ]
  },
  {
   "cell_type": "code",
   "execution_count": 7,
   "metadata": {},
   "outputs": [],
   "source": [
    "start = time()\n",
    "ids, lbls = get_labels()\n",
    "end = time()"
   ]
  },
  {
   "cell_type": "code",
   "execution_count": 8,
   "metadata": {},
   "outputs": [
    {
     "data": {
      "text/plain": [
       "300.6121242046356"
      ]
     },
     "execution_count": 8,
     "metadata": {},
     "output_type": "execute_result"
    }
   ],
   "source": [
    "end-start"
   ]
  },
  {
   "cell_type": "code",
   "execution_count": null,
   "metadata": {},
   "outputs": [],
   "source": [
    "#subclasses_df = pd.read_csv('wikidata_subclasses.txt', sep=' ', names=['entity','subClassOf','superClass'])\n",
    "#subclasses_df.head()"
   ]
  },
  {
   "cell_type": "code",
   "execution_count": 9,
   "metadata": {},
   "outputs": [
    {
     "data": {
      "text/plain": [
       "555313"
      ]
     },
     "execution_count": 9,
     "metadata": {},
     "output_type": "execute_result"
    }
   ],
   "source": [
    "len(lbls)"
   ]
  },
  {
   "cell_type": "code",
   "execution_count": null,
   "metadata": {},
   "outputs": [],
   "source": [
    "#labels_df = pd.read_csv('wikidata_labels.txt', sep=' ', names=['entity','predicate','label'] )\n",
    "#labels_df.head()\n",
    "############### Not working becuase of memory limitations"
   ]
  },
  {
   "cell_type": "code",
   "execution_count": 24,
   "metadata": {},
   "outputs": [],
   "source": [
    "from ast import literal_eval as make_tuple\n",
    "#f.close()\n",
    "f = open(\"hawaii.csv\", \"r\") #output2.csv\n",
    "lines = list(f.readlines())\n",
    "tuples = []\n",
    "for line in lines:\n",
    "    clean = line.strip().replace(\"\\\"\", \"\").replace(\",\",\"\\\",\\\"\")\n",
    "    clean = f'(\"{clean[1:-1]}\")'\n",
    "    tup = make_tuple(clean)\n",
    "    if len(tup) > 2:\n",
    "        tup = (''.join(list(tup[:-1])), tup[-1])\n",
    "    tuples.append(tup)"
   ]
  },
  {
   "cell_type": "code",
   "execution_count": 25,
   "metadata": {},
   "outputs": [
    {
     "data": {
      "text/plain": [
       "[('ABergo', 'data_hawaii_gov'),\n",
       " ('Accounting Division of Department of Accounting and General Services',\n",
       "  'data_hawaii_gov'),\n",
       " ('Accounting Divisions of the Department of Accounting and General Services',\n",
       "  'data_hawaii_gov'),\n",
       " ('Adrian', 'data_hawaii_gov'),\n",
       " ('aegis808', 'data_hawaii_gov')]"
      ]
     },
     "execution_count": 25,
     "metadata": {},
     "output_type": "execute_result"
    }
   ],
   "source": [
    "tuples[:5]"
   ]
  },
  {
   "cell_type": "code",
   "execution_count": 11,
   "metadata": {},
   "outputs": [
    {
     "name": "stdout",
     "output_type": "stream",
     "text": [
      "done with Body of European Regulators for Electronic Communications\n",
      "done with Cedefop\n",
      "done with Committee of the Regions\n",
      "done with Consumers Health Agriculture and Food Executive Agency\n",
      "done with Council of the European Union\n",
      "done with Directorate-General for Agriculture and Rural Development\n",
      "done with Directorate-General for Communication\n",
      "done with Directorate-General for Communications Networks Content and Technology\n",
      "done with Directorate-General for Competition\n",
      "done with Directorate-General for Economic and Financial Affairs\n",
      "done with Directorate-General for Education and Culture\n",
      "done with Directorate-General for Employment Social Affairs and Inclusion\n",
      "done with Directorate-General for Energy\n",
      "done with Directorate-General for Financial Stability Financial Services and Capital Markets Union\n",
      "done with Directorate-General for Health and Food Safety\n",
      "done with Directorate-General for Humanitarian Aid and Civil Protection (ECHO)\n",
      "done with Directorate-General for Informatics\n",
      "done with Directorate-General for Internal Market Industry Entrepreneurship and SMEs\n",
      "done with Directorate-General for International Cooperation and Development\n",
      "done with Directorate-General for Interpretation\n",
      "done with Directorate-General for Justice and Consumers\n",
      "done with Directorate-General for Maritime Affairs and Fisheries\n",
      "done with Directorate-General for Migration and Home Affairs\n",
      "done with Directorate-General for Mobility and Transport\n",
      "done with Directorate-General for Neighbourhood and Enlargement Negotiations\n",
      "done with Directorate-General for Regional and Urban Policy\n",
      "done with Directorate-General for Research and Innovation\n",
      "done with Directorate-General for Taxation and Customs Union\n",
      "done with Directorate-General for the Budget\n",
      "done with Directorate-General for the Environment\n",
      "done with Directorate-General for Translation\n",
      "done with Education Audiovisual and Culture Executive Agency\n",
      "done with Eurofound\n",
      "done with European Agency for Safety and Health at Work\n",
      "done with European Anti-Fraud Office\n",
      "done with European Asylum Support Office\n",
      "done with European Aviation Safety Agency\n",
      "done with European Banking Authority\n",
      "done with European Central Bank\n",
      "done with European Centre for Disease Prevention and Control\n",
      "done with European Chemicals Agency\n",
      "done with European Commission- DG Financial Stability Financial Services and Capital Markets Union\n",
      "done with European Court of Auditors\n",
      "done with European Data Protection Supervisor\n",
      "done with European Defence Agency\n",
      "done with European Economic and Social Committee\n",
      "done with European Environment Agency\n",
      "done with European External Action Service\n",
      "done with European Fisheries Control Agency\n",
      "done with European Food Safety Authority\n",
      "done with European Institute for Gender Equality\n",
      "done with European Institute of Innovation and Technology\n",
      "done with European Insurance and Occupational Pensions Authority\n",
      "done with European Investment Bank\n",
      "done with European Maritime Safety Agency\n",
      "done with European Medicines Agency\n",
      "done with European Monitoring Centre for Drugs and Drug Addiction\n",
      "done with European Ombudsman\n",
      "done with European Parliament\n",
      "done with European Securities and Markets Authority\n",
      "done with European Training Foundation\n",
      "done with European Union Agency for Fundamental Rights\n",
      "done with European Union Agency for Network and Information Security\n",
      "done with Europol\n",
      "done with Eurostat\n",
      "done with Executive Agency for Small and Medium-sized Enterprises\n",
      "done with Frontex\n",
      "done with Fusion for Energy Joint Undertaking\n",
      "done with Joint Research Centre\n",
      "done with Office for Infrastructure and Logistics in Brussels\n",
      "done with Office for Infrastructure and Logistics in Luxembourg\n",
      "done with Publications Office\n",
      "done with Secretariat-General\n",
      "done with Service for Foreign Policy Instruments\n",
      "done with SESAR Joint Undertaking\n",
      "done with Translation Centre\n"
     ]
    }
   ],
   "source": [
    "results = {}\n",
    "for tup in tuples:\n",
    "    org = tup[0]\n",
    "    if len(org) < 2:\n",
    "        continue\n",
    "    for entity_id, entity_label in zip(ids,lbls):\n",
    "        similarity = fuzz.ratio(org, entity_id)\n",
    "        #print(f\"{org} vs. {entity_label}\")\n",
    "        if similarity >= 85:\n",
    "            print(\"==== Bingo ====\")\n",
    "            if org not in dic:\n",
    "                results[org] = []\n",
    "            results[org].append(entity_id)\n",
    "    print(f\"done with {org}\")"
   ]
  },
  {
   "cell_type": "code",
   "execution_count": 13,
   "metadata": {},
   "outputs": [],
   "source": [
    "import requests\n",
    "\n",
    "def fire_query(entity):\n",
    "    url = 'https://query.wikidata.org/sparql'\n",
    "    query = \"SELECT DISTINCT ?O WHERE { ?O wdt:P31/wdt:P279* wd:Q43229; rdfs:label '\"+entity+\"'}\"\n",
    "    r = requests.get(url, params = {'format': 'json', 'query': query})\n",
    "    data = r.json()\n",
    "    return data"
   ]
  },
  {
   "cell_type": "code",
   "execution_count": 7,
   "metadata": {},
   "outputs": [
    {
     "data": {
      "text/plain": [
       "('http://www.wikidata.org/entity/Q8901', 'European Central Bank')"
      ]
     },
     "execution_count": 7,
     "metadata": {},
     "output_type": "execute_result"
    }
   ],
   "source": [
    "import requests\n",
    "def search_wikidata(entity):\n",
    "    url = \"https://www.wikidata.org/w/api.php?action=wbsearchentities&search=\"+entity+\"&language=en&format=json\"\n",
    "    response = requests.request(\"GET\", url)\n",
    "    try:\n",
    "        res = response.json()['search'][0]\n",
    "        return res['concepturi'], res['label']\n",
    "    except:\n",
    "        return '', ''\n",
    "search_wikidata(\"European Central Bank\")"
   ]
  },
  {
   "cell_type": "code",
   "execution_count": 21,
   "metadata": {},
   "outputs": [
    {
     "data": {
      "text/plain": [
       "('http://dbpedia.org/resource/European_Central_Bank', 'European Central Bank')"
      ]
     },
     "execution_count": 21,
     "metadata": {},
     "output_type": "execute_result"
    }
   ],
   "source": [
    "import requests\n",
    "\n",
    "def search_dbpedia(entity):\n",
    "    url = \"http://lookup.dbpedia.org/api/search/PrefixSearch\"\n",
    "    querystring = {\"MaxHits\":\"5\",\"QueryString\":entity}\n",
    "    headers = {\n",
    "        'Accept': \"application/json\",\n",
    "        'cache-control': \"no-cache\",\n",
    "        'Postman-Token': \"c0a7c9ad-4277-408e-b5d6-fb03f9cbd526\"\n",
    "        }\n",
    "    response = requests.request(\"GET\", url, headers=headers, params=querystring)\n",
    "    try:\n",
    "        res = response.json()['results'][0]\n",
    "        return res['uri'], res['label']\n",
    "    except:\n",
    "        return '', ''\n",
    "    \n",
    "search_dbpedia(\"European Central Bank\")"
   ]
  },
  {
   "cell_type": "code",
   "execution_count": 28,
   "metadata": {},
   "outputs": [],
   "source": [
    "results = []\n",
    "for tup in tuples:\n",
    "    org = tup[0]\n",
    "    if len(org) < 2:\n",
    "        continue\n",
    "    linked_entity, label = search_wikidata(org)\n",
    "    #linked_entity, label = search_dbpedia(org)\n",
    "    if len(linked_entity) > 1:\n",
    "        results.append([org, linked_entity, label])\n",
    "    #print(f\"done with {org}\")"
   ]
  },
  {
   "cell_type": "code",
   "execution_count": 6,
   "metadata": {},
   "outputs": [
    {
     "data": {
      "text/plain": [
       "{'Body of European Regulators for Electronic Communications': 'http://www.wikidata.org/entity/Q1297311',\n",
       " 'Cedefop': 'http://www.wikidata.org/entity/Q116214',\n",
       " 'Committee of the Regions': 'http://www.wikidata.org/entity/Q205203',\n",
       " 'Council of the European Union': 'http://www.wikidata.org/entity/Q8896',\n",
       " 'Directorate-General for Agriculture and Rural Development': 'http://www.wikidata.org/entity/Q1501751',\n",
       " 'Directorate-General for Communication': 'http://www.wikidata.org/entity/Q34779544',\n",
       " 'Directorate-General for Competition': 'http://www.wikidata.org/entity/Q610734',\n",
       " 'Directorate-General for Economic and Financial Affairs': 'http://www.wikidata.org/entity/Q5280590',\n",
       " 'Directorate-General for Education and Culture': 'http://www.wikidata.org/entity/Q5280589',\n",
       " 'Directorate-General for Energy': 'http://www.wikidata.org/entity/Q15811618',\n",
       " 'Directorate-General for Health and Food Safety': 'http://www.wikidata.org/entity/Q596757',\n",
       " 'Directorate-General for Informatics': 'http://www.wikidata.org/entity/Q5280596',\n",
       " 'Directorate-General for International Cooperation and Development': 'http://www.wikidata.org/entity/Q1378038',\n",
       " 'Directorate-General for Interpretation': 'http://www.wikidata.org/entity/Q5280599',\n",
       " 'Directorate-General for Justice and Consumers': 'http://www.wikidata.org/entity/Q5280598',\n",
       " 'Directorate-General for Maritime Affairs and Fisheries': 'http://www.wikidata.org/entity/Q5280602',\n",
       " 'Directorate-General for Migration and Home Affairs': 'http://www.wikidata.org/entity/Q5280595',\n",
       " 'Directorate-General for Mobility and Transport': 'http://www.wikidata.org/entity/Q384175',\n",
       " 'Directorate-General for Regional and Urban Policy': 'http://www.wikidata.org/entity/Q5280604',\n",
       " 'Directorate-General for Research and Innovation': 'http://www.wikidata.org/entity/Q3304308',\n",
       " 'Directorate-General for Taxation and Customs Union': 'http://www.wikidata.org/entity/Q1501749',\n",
       " 'Directorate-General for the Environment': 'http://www.wikidata.org/entity/Q1501753',\n",
       " 'Directorate-General for Translation': 'http://www.wikidata.org/entity/Q5280607',\n",
       " 'Eurofound': 'http://www.wikidata.org/entity/Q1377549',\n",
       " 'European Agency for Safety and Health at Work': 'http://www.wikidata.org/entity/Q571118',\n",
       " 'European Anti-Fraud Office': 'http://www.wikidata.org/entity/Q1138377',\n",
       " 'European Asylum Support Office': 'http://www.wikidata.org/entity/Q4002697',\n",
       " 'European Aviation Safety Agency': 'http://www.wikidata.org/entity/Q276255',\n",
       " 'European Banking Authority': 'http://www.wikidata.org/entity/Q769548',\n",
       " 'European Central Bank': 'http://www.wikidata.org/entity/Q8901',\n",
       " 'European Centre for Disease Prevention and Control': 'http://www.wikidata.org/entity/Q918501',\n",
       " 'European Chemicals Agency': 'http://www.wikidata.org/entity/Q48798',\n",
       " 'European Data Protection Supervisor': 'http://www.wikidata.org/entity/Q1377705',\n",
       " 'European Defence Agency': 'http://www.wikidata.org/entity/Q1134173',\n",
       " 'European Economic and Social Committee': 'http://www.wikidata.org/entity/Q331024',\n",
       " 'European Environment Agency': 'http://www.wikidata.org/entity/Q632988',\n",
       " 'European External Action Service': 'http://www.wikidata.org/entity/Q672941',\n",
       " 'European Fisheries Control Agency': 'http://www.wikidata.org/entity/Q201372',\n",
       " 'European Food Safety Authority': 'http://www.wikidata.org/entity/Q516521',\n",
       " 'European Institute for Gender Equality': 'http://www.wikidata.org/entity/Q48718',\n",
       " 'European Institute of Innovation and Technology': 'http://www.wikidata.org/entity/Q993120',\n",
       " 'European Insurance and Occupational Pensions Authority': 'http://www.wikidata.org/entity/Q2116004',\n",
       " 'European Investment Bank': 'http://www.wikidata.org/entity/Q192247',\n",
       " 'European Maritime Safety Agency': 'http://www.wikidata.org/entity/Q922693',\n",
       " 'European Medicines Agency': 'http://www.wikidata.org/entity/Q130146',\n",
       " 'European Monitoring Centre for Drugs and Drug Addiction': 'http://www.wikidata.org/entity/Q1377256',\n",
       " 'European Ombudsman': 'http://www.wikidata.org/entity/Q220893',\n",
       " 'European Parliament': 'http://www.wikidata.org/entity/Q8889',\n",
       " 'European Securities and Markets Authority': 'http://www.wikidata.org/entity/Q769112',\n",
       " 'European Training Foundation': 'http://www.wikidata.org/entity/Q372042',\n",
       " 'European Union Agency for Fundamental Rights': 'http://www.wikidata.org/entity/Q48790',\n",
       " 'Europol': 'http://www.wikidata.org/entity/Q207203',\n",
       " 'Eurostat': 'http://www.wikidata.org/entity/Q217659',\n",
       " 'Executive Agency for Small and Medium-sized Enterprises': 'http://www.wikidata.org/entity/Q734374',\n",
       " 'Frontex': 'http://www.wikidata.org/entity/Q21786841',\n",
       " 'Joint Research Centre': 'http://www.wikidata.org/entity/Q50035077',\n",
       " 'Publications Office': 'http://www.wikidata.org/entity/Q480222',\n",
       " 'Secretariat-General': 'http://www.wikidata.org/entity/Q1501921',\n",
       " 'SESAR Joint Undertaking': 'http://www.wikidata.org/entity/Q3055255',\n",
       " 'Translation Centre': 'http://www.wikidata.org/entity/Q333743'}"
      ]
     },
     "execution_count": 6,
     "metadata": {},
     "output_type": "execute_result"
    }
   ],
   "source": [
    "results"
   ]
  },
  {
   "cell_type": "code",
   "execution_count": 29,
   "metadata": {},
   "outputs": [],
   "source": [
    "import csv\n",
    "f = open(\"hawaii_baseline.csv\", 'w')\n",
    "writer = csv.writer(f)\n",
    "writer.writerows(results)\n",
    "f.close()"
   ]
  }
 ],
 "metadata": {
  "kernelspec": {
   "display_name": "Python 3",
   "language": "python",
   "name": "python3"
  },
  "language_info": {
   "codemirror_mode": {
    "name": "ipython",
    "version": 3
   },
   "file_extension": ".py",
   "mimetype": "text/x-python",
   "name": "python",
   "nbconvert_exporter": "python",
   "pygments_lexer": "ipython3",
   "version": "3.7.3"
  }
 },
 "nbformat": 4,
 "nbformat_minor": 2
}
